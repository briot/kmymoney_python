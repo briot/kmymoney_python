{
 "cells": [
  {
   "cell_type": "markdown",
   "metadata": {},
   "source": [
    "Interface to KMyMoney saved files\n",
    "===============\n",
    "You must save your data as SQL (or you can export your current data to an sql file)"
   ]
  },
  {
   "cell_type": "code",
   "execution_count": null,
   "metadata": {},
   "outputs": [],
   "source": [
    "filename = \"/Users/briot/Comptes.kmm\""
   ]
  },
  {
   "cell_type": "code",
   "execution_count": null,
   "metadata": {
    "jupyter": {
     "source_hidden": true
    }
   },
   "outputs": [],
   "source": [
    "from kmymoney import KMyMoney    # our own file\n",
    "from jupyter_utils import disp, as_numeric   # our own file\n",
    "\n",
    "kmm = KMyMoney(filename)\n",
    "\n",
    "\n",
    "# For convenience, autoreload scripts (kmymoney.py) before executing commands.\n",
    "%load_ext autoreload\n",
    "%autoreload 2\n",
    "\n",
    "# jupyter labextension install \\\n",
    "#    @jupyter-widgets/jupyterlab-manager\n",
    "import ipywidgets as widgets\n",
    "\n",
    "# pip install qgrid\n",
    "# jupyter nbextension enable --py --sys-prefix qgrid\n",
    "# import qgrid\n",
    "\n",
    "# Direct look at the database (needs `pip install ipython-sql`)\n",
    "%load_ext sql\n",
    "sqlite = kmm.sqlite\n",
    "%sql $sqlite\n",
    "\n",
    "# Setup matplotlib\n",
    "import matplotlib.pyplot as plt\n",
    "%matplotlib inline"
   ]
  },
  {
   "cell_type": "code",
   "execution_count": null,
   "metadata": {
    "jupyter": {
     "source_hidden": true
    }
   },
   "outputs": [],
   "source": [
    "import datetime\n",
    "\n",
    "selectedAccounts = widgets.SelectMultiple(\n",
    "    options=sorted(tuple(x) for x in kmm.accounts()[['name', 'accountId']].to_numpy()),\n",
    "    rows=10,\n",
    "    value=['A000241', 'A000242'],\n",
    "    description='Accounts',\n",
    "    layout=widgets.Layout(width='600px'),\n",
    ")\n",
    "display(selectedAccounts)\n",
    "\n",
    "mindate = widgets.DatePicker(description='Start date', value=datetime.datetime(2019, 1, 1))\n",
    "display(mindate)\n",
    "\n",
    "maxdate = widgets.DatePicker(description='End date', value=datetime.datetime.now())\n",
    "display(maxdate)\n",
    "\n",
    "context = {'accounts': selectedAccounts, 'mindate': mindate, 'maxdate': maxdate}"
   ]
  },
  {
   "cell_type": "markdown",
   "metadata": {},
   "source": [
    "Display the ledger for the selected accounts\n",
    "---------\n",
    "A single SQL query is used to compute the lines of the ledger in a format similar to what KMyMoney outputs. We compute the running balance directly in the sql query, which is useful to find operations that brought the balance over some threshold for instance.\n",
    "\n",
    "We then manipulate the result via Python's Pandas to extract specific information. We cannot, for instance, reduce the range of dates directly in the SQL query, since the running balance is computed on the result rows, so it would be wrong if we remove some rows. (An alternative might be to have a third SELECT statement to filter, but doing that in Pandas is more flexible since it also limits the number of queries we do to sqlite -- keeping everything in memory works fine for a typical kmymoney file)"
   ]
  },
  {
   "cell_type": "code",
   "execution_count": null,
   "metadata": {
    "jupyter": {
     "source_hidden": true
    }
   },
   "outputs": [],
   "source": [
    "def show_ledger(accounts, mindate, maxdate):\n",
    "    disp(kmm.ledger(\n",
    "        accounts=accounts,\n",
    "        mindate=mindate.strftime('%Y-%m-%d'),\n",
    "        maxdate=maxdate.strftime('%Y-%m-%d'),\n",
    "    ).fillna('-'))\n",
    "    \n",
    "widgets.interactive_output(show_ledger, context)  # call function when context changes"
   ]
  },
  {
   "cell_type": "markdown",
   "metadata": {},
   "source": [
    "All transactions in a given category\n",
    "------\n",
    "Display a subset of transactions. Useful to cleanup a file for instance"
   ]
  },
  {
   "cell_type": "code",
   "execution_count": null,
   "metadata": {
    "jupyter": {
     "source_hidden": true
    }
   },
   "outputs": [],
   "source": [
    "cat = (\n",
    "    'Interne',\n",
    "    'reconciliation',\n",
    "    # 'Opening Balances',\n",
    ")\n",
    "\n",
    "def subset_of_transactions(accounts, mindate, maxdate):\n",
    "    p = kmm.ledger(accounts=accounts, mindate=mindate, maxdate=maxdate)\n",
    "    p = p[ p['category'].isin(cat) ]              # Only keep transactions from specific categories\n",
    "    p = p.drop(['balance', 'reconcile'], axis=1)  # meaningless columns in this view\n",
    "    disp(\n",
    "       p.loc[ \n",
    "           p[['deposit', 'paiement']].max(axis=1)  # create a series with max(deposit,paiement)\n",
    "           .sort_values(ascending=False).index     # sort it, and retrieves the indexes in the original series\n",
    "       ]  # list the rows of p using the indexes of the sorted series\n",
    "       .append(p.sum(numeric_only=True), ignore_index=True) # Add a 'Total' row\n",
    "       .fillna('-'),\n",
    "       height=200\n",
    "    )\n",
    "    \n",
    "widgets.interactive_output(subset_of_transactions, context)"
   ]
  },
  {
   "cell_type": "markdown",
   "metadata": {},
   "source": [
    "Deposits and Paiements for a specific date range\n",
    "------------\n",
    "These plots paiements and deposits, not exactly the same as plotting the Expenses and Income accounts, because it is possible to make either paiements or deposits on either of those (for instance a reimbursement for some paiement you made earlier)"
   ]
  },
  {
   "cell_type": "code",
   "execution_count": null,
   "metadata": {
    "jupyter": {
     "source_hidden": true
    }
   },
   "outputs": [],
   "source": [
    "def show_deposits_and_paiements(accounts, mindate, maxdate):\n",
    "    kmm.plot_by_category(\n",
    "        accounts=accounts, mindate=mindate, maxdate=maxdate, values=['paiement', 'deposit'])\n",
    "    kmm.plot_by_category(\n",
    "        accounts=accounts, mindate=mindate, maxdate=maxdate, values=['amount'], kind='bar')\n",
    "    \n",
    "widgets.interactive_output(show_deposits_and_paiements, context)\n"
   ]
  },
  {
   "cell_type": "markdown",
   "metadata": {},
   "source": [
    "Net worth by month or year\n",
    "---------------\n",
    "Networth is computed by looking at the current positions in all accounts (EUR or number of shares) at the end of some periods (monthly, yearly,...), and applying the price of the stocks as of the end of that period. In a ledger, the prices are computed as of the transaction itself."
   ]
  },
  {
   "cell_type": "code",
   "execution_count": null,
   "metadata": {
    "jupyter": {
     "source_hidden": true
    }
   },
   "outputs": [],
   "source": [
    "def show_networth(accounts, mindate, maxdate, by_year=True):\n",
    "    p = kmm.networth(\n",
    "        accounts=accounts,\n",
    "        mindate=mindate.strftime('%Y-%m-%d'), \n",
    "        maxdate=maxdate.strftime('%Y-%m-31'), \n",
    "        by_year=by_year, \n",
    "        with_total=True)\n",
    "    disp(p, height=600)\n",
    "\n",
    "widgets.interactive_output(show_networth, context)"
   ]
  },
  {
   "cell_type": "markdown",
   "metadata": {},
   "source": [
    "Group the transactions into bins\n",
    "-----------------------"
   ]
  },
  {
   "cell_type": "code",
   "execution_count": null,
   "metadata": {
    "jupyter": {
     "source_hidden": true
    }
   },
   "outputs": [],
   "source": [
    "import pandas as pd\n",
    "\n",
    "def bin_and_plot(accounts, mindate, maxdate):\n",
    "    \"\"\"\n",
    "    Group data into bins of specific ranges:  [0, 10), [10, 20), ...\n",
    "    \"\"\"\n",
    "    bins = [(0, 50), (50, 100), (100, 200), (200, 500), (500, 1000), \n",
    "            (1000, 3000), (3000, 5000), (5000, 10000), (10000, 100000000)]\n",
    "\n",
    "    l = kmm.ledger(accounts=accounts, mindate=mindate, maxdate=maxdate)\n",
    "    l = l[ ~l['paiement'].isnull() ]   # Only keep transactions with a paiement\n",
    "    \n",
    "    binned = pd.cut(  # for each element, contains the name of the bin it belongs to\n",
    "        l['paiement'],\n",
    "        pd.IntervalIndex.from_tuples(bins, closed=\"left\"),\n",
    "        labels=[f\"[{l},{r})\" for l, r in bins],\n",
    "        precision=0,\n",
    "        include_lowest=True\n",
    "    )\n",
    "\n",
    "    c = binned.value_counts()\n",
    "    c.sort_index(inplace=True)\n",
    "    c.plot(kind='bar', title='Size of paiements')\n",
    "    \n",
    "widgets.interactive_output(bin_and_plot, context)"
   ]
  },
  {
   "cell_type": "markdown",
   "metadata": {},
   "source": [
    "Investments\n",
    "----------"
   ]
  },
  {
   "cell_type": "code",
   "execution_count": null,
   "metadata": {
    "jupyter": {
     "source_hidden": true
    }
   },
   "outputs": [],
   "source": [
    "def show_history_prices(accounts):\n",
    "    p = kmm.price_history(accounts=accounts)\n",
    "    if not p.empty:\n",
    "        pl = p.interpolate().plot(kind='line', title='Price History', figsize=(10, 5));\n",
    "        pl.legend(bbox_to_anchor=(1.3, 1))\n",
    "    \n",
    "widgets.interactive_output(show_history_prices, {'accounts': selectedAccounts})\n",
    "    "
   ]
  },
  {
   "cell_type": "code",
   "execution_count": null,
   "metadata": {},
   "outputs": [],
   "source": [
    "# Get from Yahoo Finance\n",
    "import pandas_datareader as data\n",
    "df = data.DataReader('ETH-EUR', start=\"2017-06-29\", end=\"2020-05-15\", data_source='yahoo')\n",
    "df['Adj Close'].plot(title='Closing prices from Yahoo Finance', figsize=(10, 5));"
   ]
  },
  {
   "cell_type": "markdown",
   "metadata": {},
   "source": [
    "Ideas\n",
    "======\n",
    "\n",
    "- compute mean investment price, and current return (`current_price / mean_price`), or using one of the other usual valuation methods that GNUCash provides\n",
    "- compute total invested in a given investment, and its current book value\n",
    "- networth should compute earliest date from database\n",
    "- networth should display diff between two columns"
   ]
  },
  {
   "cell_type": "code",
   "execution_count": null,
   "metadata": {},
   "outputs": [],
   "source": []
  }
 ],
 "metadata": {
  "kernelspec": {
   "display_name": "Python 3",
   "language": "python",
   "name": "python3"
  },
  "language_info": {
   "codemirror_mode": {
    "name": "ipython",
    "version": 3
   },
   "file_extension": ".py",
   "mimetype": "text/x-python",
   "name": "python",
   "nbconvert_exporter": "python",
   "pygments_lexer": "ipython3",
   "version": "3.7.3"
  }
 },
 "nbformat": 4,
 "nbformat_minor": 4
}
