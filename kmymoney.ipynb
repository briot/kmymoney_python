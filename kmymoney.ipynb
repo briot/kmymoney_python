{
 "cells": [
  {
   "cell_type": "markdown",
   "metadata": {},
   "source": [
    "Interface to KMyMoney saved files\n",
    "===============\n",
    "You must save your data as SQL (or you can export your current data to an sql file)"
   ]
  },
  {
   "cell_type": "code",
   "execution_count": null,
   "metadata": {},
   "outputs": [],
   "source": [
    "# For convenience, autoreload scripts (kmymoney.py) before executing commands.\n",
    "%load_ext autoreload\n",
    "%autoreload 2"
   ]
  },
  {
   "cell_type": "code",
   "execution_count": null,
   "metadata": {},
   "outputs": [],
   "source": [
    "from kmymoney import KMyMoney    # our own file\n",
    "from jupyter_utils import disp, as_numeric   # our own file\n",
    "\n",
    "kmm = KMyMoney('/Users/briot/Comptes.kmm')"
   ]
  },
  {
   "cell_type": "code",
   "execution_count": null,
   "metadata": {},
   "outputs": [],
   "source": [
    "# Direct look at the database (needs `pip install ipython-sql`)\n",
    "%load_ext sql\n",
    "sqlite = kmm.sqlite\n",
    "%sql $sqlite"
   ]
  },
  {
   "cell_type": "code",
   "execution_count": null,
   "metadata": {},
   "outputs": [],
   "source": [
    "# Setup matplotlib\n",
    "import matplotlib.pyplot as plt\n",
    "%matplotlib inline"
   ]
  },
  {
   "cell_type": "code",
   "execution_count": null,
   "metadata": {},
   "outputs": [],
   "source": [
    "# List of accounts\n",
    "bitcoin = 'A000242'      # to check fees\n",
    "bourscommun = 'A000106'\n",
    "eurokidA = 'A000195'\n",
    "pilotee = 'A000216'\n",
    "ethereum = 'A000241'"
   ]
  },
  {
   "cell_type": "markdown",
   "metadata": {},
   "source": [
    "Display the ledger for one or more accounts\n",
    "---------\n",
    "A single SQL query is used to compute the lines of the ledger in a format similar to what KMyMoney outputs. We compute the running balance directly in the sql query, which is useful to find operations that brought the balance over some threshold for instance.\n",
    "\n",
    "We then manipulate the result via Python's Pandas to extract specific information. We cannot, for instance, reduce the range of dates directly in the SQL query, since the running balance is computed on the result rows, so it would be wrong if we remove some rows. (An alternative might be to have a third SELECT statement to filter, but doing that in Pandas is more flexible since it also limits the number of queries we do to sqlite -- keeping everything in memory works fine for a typical kmymoney file)"
   ]
  },
  {
   "cell_type": "code",
   "execution_count": null,
   "metadata": {},
   "outputs": [],
   "source": [
    "disp(kmm.ledger(accounts=[ethereum, bitcoin], mindate=\"2017-05-01\").fillna('-'))"
   ]
  },
  {
   "cell_type": "markdown",
   "metadata": {},
   "source": [
    "All transactions in a given category\n",
    "------\n",
    "Display a subset of transactions. Useful to cleanup a file for instance"
   ]
  },
  {
   "cell_type": "code",
   "execution_count": null,
   "metadata": {},
   "outputs": [],
   "source": [
    "p = kmm.ledger(mindate=\"2019-01-01\")  # Get all transactions\n",
    "cat = (\n",
    "    'Interne',\n",
    "    'reconciliation',\n",
    "    # 'Opening Balances',\n",
    ")\n",
    "p = p[ p['category'].isin(cat) ]              # Only keep transactions from specific categories\n",
    "p = p.drop(['balance', 'reconcile'], axis=1)  # meaningless columns in this view\n",
    "disp(\n",
    "   p.loc[ \n",
    "       p[['deposit', 'paiement']].max(axis=1)  # create a series with max(deposit,paiement)\n",
    "       .sort_values(ascending=False).index     # sort it, and retrieves the indexes in the original series\n",
    "   ]  # list the rows of p using the indexes of the sorted series\n",
    "   .append(p.sum(numeric_only=True), ignore_index=True), # Add a 'Total' row\n",
    "   height=200\n",
    ")"
   ]
  },
  {
   "cell_type": "markdown",
   "metadata": {},
   "source": [
    "Deposits and Paiements for a specific date range\n",
    "------------\n",
    "These plots paiements and deposits, not exactly the same as plotting the Expenses and Income accounts, because it is possible to make either paiements or deposits on either of those (for instance a reimbursement for some paiement you made earlier)"
   ]
  },
  {
   "cell_type": "code",
   "execution_count": null,
   "metadata": {},
   "outputs": [],
   "source": [
    "kmm.plot_by_category(mindate=\"2020-01-01\", values=['paiement', 'deposit'])\n",
    "kmm.plot_by_category(mindate=\"2020-01-01\", values=['amount'], kind='bar')\n"
   ]
  },
  {
   "cell_type": "markdown",
   "metadata": {},
   "source": [
    "Net worth by month\n",
    "---------------\n",
    "Networth is computed by looking at the current positions in all accounts (EUR or number of shares) at the end of some periods (monthly, yearly,...), and applying the price of the stocks as of the end of that period. In a ledger, the prices are computed as of the transaction itself."
   ]
  },
  {
   "cell_type": "code",
   "execution_count": null,
   "metadata": {},
   "outputs": [],
   "source": [
    "p = kmm.networth(mindate=\"2015-01-01\", maxdate=\"2020-12-31\", by_year=True)\n",
    "disp(p, height=600)\n",
    "\n",
    "p = kmm.networth(mindate=\"2020-01-01\", maxdate=\"2020-06-31\", by_year=False, with_total=True)\n",
    "disp(p, height=600)"
   ]
  },
  {
   "cell_type": "markdown",
   "metadata": {},
   "source": [
    "Group the transactions into bins\n",
    "-----------------------\n",
    "\n",
    "See https://medium.com/@soulsinporto/group-data-using-bins-and-categories-with-pandas-836c9c9bbd46"
   ]
  },
  {
   "cell_type": "code",
   "execution_count": null,
   "metadata": {},
   "outputs": [],
   "source": [
    "from typing import List, Union\n",
    "import plotly.express as px\n",
    "import pandas as pd\n",
    "\n",
    "\n",
    "def bin_and_plot(series: pd.Series) -> pd.Series:\n",
    "    \"\"\"\n",
    "    Group data into bins of specific ranges:  [0, 10), [10, 20), ...\n",
    "    \"\"\"\n",
    "    bins = [(0, 50), (50, 100), (100, 200), (200, 500), (500, 1000), \n",
    "            (1000, 3000), (3000, 5000), (5000, 10000), (10000, 100000000)]\n",
    "\n",
    "    intervals = pd.IntervalIndex.from_tuples(bins, closed=\"left\")\n",
    "    labels = [f\"[{l},{r})\" for l, r in bins]\n",
    "    binned = pd.cut(\n",
    "        series,\n",
    "        intervals,\n",
    "        labels=labels,\n",
    "        precision=0,\n",
    "        include_lowest=True\n",
    "    )\n",
    "\n",
    "    binned.sort_values(ascending=True, inplace=True)\n",
    "    # Change the values from categorical to string to be able to plot them\n",
    "    binned = binned.astype(\"str\")\n",
    "\n",
    "    # For each element in `series`, binned contains the name of the bin it\n",
    "    # belongs to.\n",
    "    \n",
    "    plot_histogram(\n",
    "        binned, nbins=len(bins), title='Size of paiements',\n",
    "        axes_titles=['Paiements', ''])\n",
    "\n",
    "def plot_histogram(\n",
    "    data_series: pd.Series,\n",
    "    nbins: int,\n",
    "    title: str,\n",
    "    axes_titles: List[Union[str, None]]\n",
    ") -> None:\n",
    "    fig = px.histogram(\n",
    "        x=data_series,\n",
    "        nbins=nbins,\n",
    "        title=title\n",
    "    )\n",
    "\n",
    "    fig.update_layout(\n",
    "        xaxis_title=axes_titles[0],\n",
    "        yaxis_title=axes_titles[1]\n",
    "    )\n",
    "\n",
    "    fig.update_layout(\n",
    "        uniformtext_minsize=14,\n",
    "        uniformtext_mode=\"hide\",\n",
    "        bargap=0.1,\n",
    "        title_x=0.5\n",
    "    )\n",
    "\n",
    "    fig.show()\n",
    "\n",
    "l = kmm.ledger(mindate='2015-01-01')\n",
    "l = l[ ~l['paiement'].isnull() ]   # Only keep transactions with a paiement\n",
    "bin_and_plot(l['paiement'])\n"
   ]
  },
  {
   "cell_type": "markdown",
   "metadata": {},
   "source": [
    "Ideas\n",
    "======\n",
    "\n",
    "- investment value over time (plot)\n",
    "- compute mean investment price, and current return (`current_price / mean_price`), or using one of the other usual valuation methods that GNUCash provides\n",
    "- compute total invested in a given investment, and its current book value\n",
    "- cleanup the `ledger_investment` function, merge with `ledger`\n",
    "- networth should compute earliest date from database\n",
    "- networth should display diff between two columns"
   ]
  },
  {
   "cell_type": "code",
   "execution_count": null,
   "metadata": {},
   "outputs": [],
   "source": []
  }
 ],
 "metadata": {
  "kernelspec": {
   "display_name": "Python 3",
   "language": "python",
   "name": "python3"
  },
  "language_info": {
   "codemirror_mode": {
    "name": "ipython",
    "version": 3
   },
   "file_extension": ".py",
   "mimetype": "text/x-python",
   "name": "python",
   "nbconvert_exporter": "python",
   "pygments_lexer": "ipython3",
   "version": "3.7.7"
  }
 },
 "nbformat": 4,
 "nbformat_minor": 4
}
